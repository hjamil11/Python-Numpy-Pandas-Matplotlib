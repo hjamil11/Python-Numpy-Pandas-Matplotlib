{
 "cells": [
  {
   "cell_type": "markdown",
   "id": "frank-oregon",
   "metadata": {},
   "source": [
    "STUDENT TODO: Fill-In Documentation Header with Markdown"
   ]
  },
  {
   "cell_type": "markdown",
   "id": "historic-praise",
   "metadata": {},
   "source": [
    "*Remove this cell before submission*\n",
    "\n",
    "Follow the project handout to complete this assignment. Make sure you rename the file as required before submitting.\n",
    "\n",
    "Link to handout: <https://csit.kutztown.edu/~earl/s/teaching/2020-2021/223-adv-sci-program/hw/hw5.html>  \n",
    "Link to dataset documentation: <https://vincentarelbundock.github.io/Rdatasets/doc/ggplot2movies/movies.html>"
   ]
  },
  {
   "cell_type": "code",
   "execution_count": null,
   "id": "afraid-gathering",
   "metadata": {},
   "outputs": [],
   "source": [
    "%matplotlib inline\n",
    "\n",
    "# STUDENT TODO: Write statements to import numpy, pandas, & matplotlib.pyplot\n",
    "# following conventions. \n"
   ]
  },
  {
   "cell_type": "code",
   "execution_count": null,
   "id": "higher-terry",
   "metadata": {
    "scrolled": true
   },
   "outputs": [],
   "source": [
    "# STUDENT: Do not modify the code in this cell. \n",
    "\n",
    "def norm_dist(x, mean, std):\n",
    "    '''\n",
    "        Use this function to calculate a normal distribution\n",
    "        \n",
    "        Parameters:\n",
    "            x - 1D Array of Distribution\n",
    "            mean - The mean of the dataset\n",
    "            std - The standard deviation of the dataset\n",
    "            \n",
    "        Return:\n",
    "            A numpy array\n",
    "    '''\n",
    "    from scipy.stats import norm\n",
    "    return norm.pdf(x, mean, std)\n",
    "    \n",
    "\n",
    "# Import the dataset\n",
    "movies = pd.read_csv('https://csit.kutztown.edu/~earl/s/teaching/2020-2021/223-adv-sci-program/hw/materials/movies.csv', index_col=0)\n",
    "movies.head()"
   ]
  },
  {
   "cell_type": "code",
   "execution_count": null,
   "id": "packed-crash",
   "metadata": {},
   "outputs": [],
   "source": [
    "# STUDENT TODO: Your code should start here in this cell. You can create as many code cells as you like.\n"
   ]
  }
 ],
 "metadata": {
  "kernelspec": {
   "display_name": "Python 3 (ipykernel)",
   "language": "python",
   "name": "python3"
  },
  "language_info": {
   "codemirror_mode": {
    "name": "ipython",
    "version": 3
   },
   "file_extension": ".py",
   "mimetype": "text/x-python",
   "name": "python",
   "nbconvert_exporter": "python",
   "pygments_lexer": "ipython3",
   "version": "3.9.7"
  }
 },
 "nbformat": 4,
 "nbformat_minor": 5
}
