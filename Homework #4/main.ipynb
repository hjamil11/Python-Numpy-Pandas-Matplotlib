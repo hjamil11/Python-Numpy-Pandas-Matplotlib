{
 "cells": [
  {
   "cell_type": "markdown",
   "id": "5634a65e",
   "metadata": {},
   "source": [
    "- **Author**: Hamad Ahmed\n",
    "    - This program reads a csv file called 'toycars.csv' into a dataframe. Then, it modifies the data of that dataframe in numerous ways such as making a column for each car and adding statistical applications as new columns\n",
    "- _Major_: CS\n",
    "- **Creation Date**: 03/29\n",
    "- Due Date: 4/8\n",
    "- Course: CSC223\n",
    "- Professor Name: Earl\n",
    "- Assignment: Homework 4\n",
    "- Filename: main.ipynb"
   ]
  },
  {
   "cell_type": "code",
   "execution_count": 133,
   "id": "0a33a1f2",
   "metadata": {},
   "outputs": [],
   "source": [
    "# Import necessary libraries\n",
    "import numpy as np\n",
    "import pandas as pd"
   ]
  },
  {
   "cell_type": "code",
   "execution_count": 134,
   "id": "4778f092",
   "metadata": {},
   "outputs": [],
   "source": [
    "# Reads the csv file into a panda dataframe\n",
    "df = pd.read_csv('toycars.csv', index_col=[0])"
   ]
  },
  {
   "cell_type": "code",
   "execution_count": 135,
   "id": "0b8e3e5d",
   "metadata": {},
   "outputs": [],
   "source": [
    "# Changes the distance from meters to millimeters\n",
    "df['distance'] = df['distance'].values * 1000"
   ]
  },
  {
   "cell_type": "code",
   "execution_count": 136,
   "id": "6eea9bd5",
   "metadata": {
    "scrolled": true
   },
   "outputs": [],
   "source": [
    "# Turns the 'angle' column index\n",
    "df = df.set_index(df['angle'])"
   ]
  },
  {
   "cell_type": "code",
   "execution_count": 137,
   "id": "791fca8e",
   "metadata": {},
   "outputs": [],
   "source": [
    "# Remove the angle and unnnamed column\n",
    "df = df.drop(columns = ['angle'], axis = 1)"
   ]
  },
  {
   "cell_type": "code",
   "execution_count": 138,
   "id": "b469d5a4",
   "metadata": {},
   "outputs": [],
   "source": [
    "# Add a column for each car and assign its distance value to it\n",
    "car_1 = pd.Series(df[df['car'] == 1]['distance'])\n",
    "car_2 = pd.Series(df[df['car'] == 2]['distance'])\n",
    "car_3 = pd.Series(df[df['car'] == 3]['distance'])\n",
    "\n",
    "df['car 1'] = car_1\n",
    "df['car 2'] = car_2\n",
    "df['car 3'] = car_3\n",
    "\n",
    "df1 = pd.concat([car_1, car_2, car_3], axis = 1)\n",
    "df1.columns = ['Car 1', 'Car 2', 'Car 3']"
   ]
  },
  {
   "cell_type": "code",
   "execution_count": 139,
   "id": "56a11067",
   "metadata": {},
   "outputs": [],
   "source": [
    "# Sorts the row in ascending order based on the index\n",
    "df1.sort_index(axis = 0, ascending = True, inplace = True)"
   ]
  },
  {
   "cell_type": "code",
   "execution_count": 140,
   "id": "784ef41b",
   "metadata": {},
   "outputs": [],
   "source": [
    "# Add a column that is the mean of the 'distance' column\n",
    "df1['Mean'] = df1.mean(axis = 1)"
   ]
  },
  {
   "cell_type": "code",
   "execution_count": 141,
   "id": "7950f778",
   "metadata": {},
   "outputs": [],
   "source": [
    "# Add a column that is the standard deviation of the 'distance' column\n",
    "df1['Std Dev'] = df1.std(axis = 1)"
   ]
  },
  {
   "cell_type": "code",
   "execution_count": 143,
   "id": "e8e45981",
   "metadata": {},
   "outputs": [
    {
     "name": "stdout",
     "output_type": "stream",
     "text": [
      "        Car 1   Car 2  Car 3         Mean     Std Dev\n",
      "angle                                                \n",
      "0.9     270.0   380.0  150.0   266.666667   93.926685\n",
      "1.1     290.0   430.0  170.0   296.666667  106.249183\n",
      "1.3     430.0   370.0  270.0   356.666667   65.996633\n",
      "2.2     580.0   700.0  540.0   606.666667   67.986927\n",
      "2.7     580.0   640.0  550.0   590.000000   37.416574\n",
      "3.1     630.0   690.0  600.0   640.000000   37.416574\n",
      "3.6     700.0   890.0  660.0   750.000000  100.332780\n",
      "4.0     840.0   920.0  690.0   816.666667   95.335664\n",
      "4.9    1000.0  1300.0  950.0  1083.333333  154.560308\n"
     ]
    }
   ],
   "source": [
    "print(df1)"
   ]
  }
 ],
 "metadata": {
  "kernelspec": {
   "display_name": "Python 3 (ipykernel)",
   "language": "python",
   "name": "python3"
  },
  "language_info": {
   "codemirror_mode": {
    "name": "ipython",
    "version": 3
   },
   "file_extension": ".py",
   "mimetype": "text/x-python",
   "name": "python",
   "nbconvert_exporter": "python",
   "pygments_lexer": "ipython3",
   "version": "3.9.7"
  }
 },
 "nbformat": 4,
 "nbformat_minor": 5
}
